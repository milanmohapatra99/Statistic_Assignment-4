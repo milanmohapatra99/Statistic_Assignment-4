{
 "cells": [
  {
   "cell_type": "markdown",
   "id": "6012d2fd",
   "metadata": {},
   "source": [
    "# Q1. What are Probability Mass Function(PMF) and Probability Density Function(PDF)? Explain with an example. "
   ]
  },
  {
   "cell_type": "markdown",
   "id": "aaf0da14",
   "metadata": {},
   "source": [
    "Ans: Probability Mass Function: Probability mass function can be defined as the probability that a discrete random variable will be exactly equal to some particular value. In other words, the probability mass function assigns a particular probability to every possible value of a discrete random variable.\n",
    "        \n",
    "The Probability Mass function is defined on all the values of R, where it takes all the arguments of any real number. \n",
    "        \n",
    "Example:\n",
    "    \n",
    "Suppose a fair coin is tossed twice and the sample space is recorded as S = [HH, HT, TH, TT].The probability of getting heads needs to be determined. Let X be the random variable that shows how many heads are obtained. X can take on the values 0, 1, 2. The probability that X will be equal to 1 is 0.5. Thus, it can be said that the probability mass function of X evaluated at 1 will be 0.5.       \n",
    "\n",
    "Probability Density Function : Probability density function gives the probability that a continuous random variable will lie between a certain specified interval.\n",
    "It is used for continuous random variables.It is evaluated between a range of values.\n",
    "\n",
    "Example: \n",
    "\n",
    "Let the r.v X be the number of heads obtained in two tosses of a coin.\n",
    "\n",
    "s = {HH,HT,TH,TT}\n",
    "\n",
    "No of Heads: 0    1     2     sum\n",
    "PDF :        1/4  1/4   1/4    1\n",
    "\n",
    "The PDF of the Number of Heads in two tosses of a coin.\n",
    "\n",
    "Conclusion: \n",
    "The probability mass function (PMF) is used to describe discrete probability distributions. In contrast, the probability density function (PDF) is applied to describe continuous probability distributions."
   ]
  },
  {
   "cell_type": "markdown",
   "id": "0b808f82",
   "metadata": {},
   "source": [
    "# Q2. What is Cumulative Density Function(CDF)? Explain with an example.Why CDF is used?"
   ]
  },
  {
   "cell_type": "markdown",
   "id": "e673938d",
   "metadata": {},
   "source": [
    "Ans: Cumulative Distribution Function: \n",
    "The cumulative distribution function is used to describe the probability distribution of random variables. It can be used to describe the probability for a discrete, continuous or mixed variable. It is obtained by summing up the probability density function and getting the cumulative probability for a random variable.\n",
    "\n",
    "The Probability Density Function is a function that gives us the probability distribution of a random variable for any value of it. To get the probability distribution at a point, you only have to solve the probability density function for that point. \n",
    "\n",
    "Example: Rolling a Single Die\n",
    "If X is the random variable we associated previously with rolling a fair six-sided die, then we can easily write down the CDF of X.\n",
    "\n",
    "We already computed that the PDF of X is given by Pr(X = k) = 1/6 for k = 1,2,...,6. The CDF can be computed by summing these probabilities sequentially; we summarize as follows:\n",
    "\n",
    "Pr(X ≤ 1) = 1/6\n",
    "Pr(X ≤ 2) = 2/6\n",
    "Pr(X ≤ 3) = 3/6\n",
    "Pr(X ≤ 4) = 4/6\n",
    "Pr(X ≤ 5) = 5/6\n",
    "Pr(X ≤ 6) = 6/6 = 1\n",
    "Notice that Pr(X ≤ x) = 0 for any x < 1 since X cannot take values less than 1. Also, notice that Pr(X ≤ x) = 1 for any x > 6. Finally, note that the probabilities Pr(X ≤ x) are constant on any interval of the form [k,k + 1)] as required.\n",
    "\n",
    "The cumulative distribution function is used to describe the probability distribution of random variables. It can be used to describe the probability for a discrete, continuous or mixed variable."
   ]
  },
  {
   "cell_type": "markdown",
   "id": "06e01eab",
   "metadata": {},
   "source": [
    "# Q3. What are some examples of situations where the normal distribution might be used as a model?\n"
   ]
  },
  {
   "cell_type": "markdown",
   "id": "f29f5de1",
   "metadata": {},
   "source": [
    "# Explain how the parameters of the normal distribution relate to the shape of the distribution."
   ]
  },
  {
   "cell_type": "markdown",
   "id": "e5dbe69c",
   "metadata": {},
   "source": [
    "Ans: The normal distribution is a continuous probability distribution that is symmetrical around its mean, most of the observations cluster around the central peak, and the probabilities for values further away from the mean taper off equally in both directions. Extreme values in both tails of the distribution are similarly unlikely. While the normal distribution is symmetrical, not all symmetrical distributions are normal. For example, the Student’s t, Cauchy, and logistic distributions are symmetric.\n",
    "\n",
    "As with any probability distribution, the normal distribution describes how the values of a variable are distributed. It is the most important probability distribution in statistics because it accurately describes the distribution of values for many natural phenomena. Characteristics that are the sum of many independent processes frequently follow normal distributions. For example, heights, blood pressure, measurement error, and IQ scores follow the normal distribution.\n",
    "\n",
    "The shape of a normal distribution is determined by the mean and the standard deviation. The steeper the bell curve, the smaller the standard deviation. If the examples are spread far apart, the bell curve will be much flatter, meaning the standard deviation is large."
   ]
  },
  {
   "cell_type": "markdown",
   "id": "e4d6af1b",
   "metadata": {},
   "source": [
    "# Q4. Explain the importance of Normal Distribution .Give a few real-life examples of Normal Distribution."
   ]
  },
  {
   "cell_type": "markdown",
   "id": "44b2a2d0",
   "metadata": {},
   "source": [
    "# Q5. What is Bernauli Distribution?Give an Example.What is the difference between Bernouli Distribution and Binomial Distribution?"
   ]
  },
  {
   "cell_type": "markdown",
   "id": "87998031",
   "metadata": {},
   "source": [
    "Ans: Bernauli Distribution: Bernoulli distribution is a discrete probability distribution, meaning it’s concerned with discrete random variables. A discrete random variable is one that has a finite or countable number of possible values—the number of heads you get when tossing three coins at once, or the number of students in a class.\n",
    "\n",
    "\n",
    "example: Tossing a coin\n",
    "The coin toss example is perhaps the easiest way to explain Bernoulli distribution. Let’s say that the outcome of “heads” is a “success,” while an outcome of “tails” is a “failure.” In this instance:\n",
    "\n",
    "The probability of a successful outcome (landing on heads) is written as p\n",
    "The probability of a failure (landing on tails), written as q, is calculated  as 1 **–** p\n",
    "With a standard coin, we know that there’s a 50/50 chance of landing on either heads or tails. So, in this case:\n",
    "\n",
    "p = 0.5\n",
    "q = 1– **0.5\n",
    "So, in our coin toss example, both p and q = 0.5. On a graph, you’d represent the probability of a failure as “0” and the probability of success as “1,” both on the y-axis.\n",
    "\n",
    "difference between Bernouli Distribution and Binomial Distribution:\n",
    "    \n",
    "Bernoulli distribution is a type of binomial distribution. We know that Bernoulli distribution applies to events that have one trial (n = 1) and two possible outcomes—for example, one coin flip (that’s the trial) and an outcome of either heads or tails. When we have more than one trial—say, we flip a coin five times—binomial distribution gives the discrete probability distribution of the number of “successes” in that sequence of independent coin flips (or trials).\n",
    "or:\n",
    "The Bernoulli distribution represents the success or failure of a single Bernoulli trial. The Binomial Distribution represents the number of successes and failures in n independent Bernoulli trials for some given value of n."
   ]
  },
  {
   "cell_type": "markdown",
   "id": "6f1c4f9d",
   "metadata": {},
   "source": [
    "# Q6. Consider a dataset with a mean of 50 and a standard deviation of 10.if we assume that the dataset is normally distributed,what is the probability that a randomly selected observation will be greater than 60?Use the appropriate formula and show your calculations."
   ]
  },
  {
   "cell_type": "code",
   "execution_count": null,
   "id": "443a8cb4",
   "metadata": {},
   "outputs": [],
   "source": [
    "pr(x<60) the first step is to find the z-score. we find that using the formula.\n",
    "\n",
    "μ = 50 ,  σ = 10\n",
    "\n",
    "By using ,z=(x−μ)/σ\n",
    "\n",
    "for p(x<60), \n",
    "\n",
    "z=(60−50)/10 = 10/10 = 1\n",
    "\n",
    "By using z-table value 1= .84134\n",
    " "
   ]
  },
  {
   "cell_type": "markdown",
   "id": "2e154461",
   "metadata": {},
   "source": [
    "# Q7. Explain uniform distribution with an example."
   ]
  },
  {
   "cell_type": "markdown",
   "id": "77520697",
   "metadata": {},
   "source": [
    "Ans: uniform distribution refers to a type of probability distribution in which all outcomes are equally likely. A deck of cards has within it uniform distributions because the likelihood of drawing a heart, a club, a diamond, or a spade is equally likely.\n",
    "\n",
    "Uniform Distribution Examples :\n",
    "In real life, analysts use the uniform distribution to model the following outcomes because they are uniformly distributed:\n",
    "\n",
    "1- Rolling dice and coin tosses.\n",
    "\n",
    "2- The probability of drawing any card from a deck of cards.\n",
    "\n",
    "3- Random sampling because that method depends on population members having equal chances."
   ]
  },
  {
   "cell_type": "markdown",
   "id": "7f7394c3",
   "metadata": {},
   "source": [
    "# Q8. What is the z score? State the importance of the z score."
   ]
  },
  {
   "cell_type": "markdown",
   "id": "13798257",
   "metadata": {},
   "source": [
    "Ans: Z-score is a statistical measurement that describes a value's relationship to the mean of a group of values. Z-score is measured in terms of standard deviations from the mean. \n",
    "    \n",
    "The z-score is particularly important because it tells you not only something about the value itself, but also where the value lies in the distribution."
   ]
  },
  {
   "cell_type": "markdown",
   "id": "05ed927f",
   "metadata": {},
   "source": [
    "# Q9. What is Central Limit Theorom? State the significance of the Central Limit Theorom."
   ]
  },
  {
   "cell_type": "markdown",
   "id": "42473689",
   "metadata": {},
   "source": [
    "Ans: The central limit theorem relies on the concept of a sampling distribution, which is the probability distribution of a statistic for a large number of samples taken from a population.\n",
    "    \n",
    "The central limit theorem says that the sampling distribution of the mean will always be normally distributed, as long as the sample size is large enough. Regardless of whether the population has a normal, Poisson, binomial, or any other distribution, the sampling distribution of the mean will be normal.\n",
    "\n",
    "A normal distribution is a symmetrical, bell-shaped distribution, with increasingly fewer observations the further from the center of the distribution.\n",
    "\n",
    "The Central Limit Theorem is important for statistics because it allows us to safely assume that the sampling distribution of the mean will be normal in most cases. This means that we can take advantage of statistical techniques that assume a normal distribution, as we will see in the next section."
   ]
  },
  {
   "cell_type": "markdown",
   "id": "1614cd40",
   "metadata": {},
   "source": [
    "# Q10. State the assumptions of the Central Limit Theorom."
   ]
  },
  {
   "cell_type": "markdown",
   "id": "a7b20ade",
   "metadata": {},
   "source": [
    "Ans: Assumptions Behind the Central Limit Theorem: \n",
    "\n",
    "It needs to be sampled at random. The samples should be unrelated to one another. One sample should not impact the others. When taking samples without replacement, the sample size should not exceed 10% of the population.\n",
    "\n",
    "The central limit theorem states that if you have a population with mean μ and standard deviation σ and take sufficiently large random samples from the population with replacement , then the distribution of the sample means will be approximately normally distributed."
   ]
  }
 ],
 "metadata": {
  "kernelspec": {
   "display_name": "Python 3 (ipykernel)",
   "language": "python",
   "name": "python3"
  },
  "language_info": {
   "codemirror_mode": {
    "name": "ipython",
    "version": 3
   },
   "file_extension": ".py",
   "mimetype": "text/x-python",
   "name": "python",
   "nbconvert_exporter": "python",
   "pygments_lexer": "ipython3",
   "version": "3.9.7"
  }
 },
 "nbformat": 4,
 "nbformat_minor": 5
}
